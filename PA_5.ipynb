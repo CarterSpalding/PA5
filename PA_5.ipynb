{
 "cells": [
  {
   "cell_type": "code",
   "execution_count": 23,
   "id": "cf5bb402",
   "metadata": {},
   "outputs": [
    {
     "name": "stdout",
     "output_type": "stream",
     "text": [
      "Enter the length of side A: 5\n",
      "Enter the length of side B: 5\n",
      "Enter the length of side C: 5\n",
      "('The perimeter of the triangle is ', 15) and ('The area of the triangle is ', 10.825317547305483)\n"
     ]
    }
   ],
   "source": [
    "import math\n",
    "math.sqrt\n",
    "a=int(input(\"Enter the length of side A: \"))\n",
    "b=int(input(\"Enter the length of side B: \"))\n",
    "c=int(input(\"Enter the length of side C: \"))\n",
    "s=(a+b+c)/2\n",
    "def calcArea(a,b,c):\n",
    "    return \"The area of the triangle is \", math.sqrt(s*(s-a)*(s-b)*(s-c))\n",
    "def calcPerimeter(a,b,c):\n",
    "    return \"The perimeter of the triangle is \", a+b+c\n",
    "\n",
    "print(calcPerimeter(a,b,c), \"and\", calcArea(a,b,c))"
   ]
  },
  {
   "cell_type": "code",
   "execution_count": 24,
   "id": "8e6fea8f",
   "metadata": {},
   "outputs": [
    {
     "name": "stdout",
     "output_type": "stream",
     "text": [
      "Guess a number: 500\n",
      "Too Low! Guess again\n",
      "Guess a number: 750\n",
      "Too high! Guess again\n",
      "Guess a number: 600\n",
      "Too Low! Guess again\n",
      "Guess a number: 650\n",
      "Too Low! Guess again\n",
      "Guess a number: 675\n",
      "Too Low! Guess again\n",
      "Guess a number: 700\n",
      "Too Low! Guess again\n",
      "Guess a number: 735\n",
      "Too Low! Guess again\n",
      "Guess a number: 740\n",
      "Correct!\n"
     ]
    }
   ],
   "source": [
    "def evaluateGuess():\n",
    "    import random\n",
    "    number=random.randint(1,1000)\n",
    "    active=True\n",
    "    while active:\n",
    "        entered_number=int(input(\"Guess a number: \"))\n",
    "        if entered_number>number:\n",
    "            print(\"Too high! Guess again\")\n",
    "        elif entered_number< number:\n",
    "            print(\"Too Low! Guess again\")\n",
    "        else:\n",
    "            print(\"Correct!\")\n",
    "            active=False\n",
    "evaluateGuess()"
   ]
  },
  {
   "cell_type": "code",
   "execution_count": 25,
   "id": "cd83de50",
   "metadata": {},
   "outputs": [
    {
     "data": {
      "text/plain": [
       "('The mean for the past', 6, 'days is', 86.66666666666667)"
      ]
     },
     "execution_count": 25,
     "metadata": {},
     "output_type": "execute_result"
    }
   ],
   "source": [
    "def meanTemp(*args):\n",
    "    return (\"The mean for the past\", len(args), \"days is\",sum(args)/len(args))\n",
    "meanTemp(97,87,94,90,88,64)"
   ]
  },
  {
   "cell_type": "markdown",
   "id": "0611283e",
   "metadata": {},
   "source": [
    "# PA5"
   ]
  },
  {
   "cell_type": "markdown",
   "id": "e5f84248",
   "metadata": {},
   "source": [
    "## Carter Spalding"
   ]
  },
  {
   "cell_type": "markdown",
   "id": "d806026c",
   "metadata": {},
   "source": [
    "### Version 1"
   ]
  },
  {
   "cell_type": "markdown",
   "id": "1c1ce5f1",
   "metadata": {},
   "source": [
    "#### CS150 Fall Semester 2022"
   ]
  }
 ],
 "metadata": {
  "kernelspec": {
   "display_name": "Python 3 (ipykernel)",
   "language": "python",
   "name": "python3"
  },
  "language_info": {
   "codemirror_mode": {
    "name": "ipython",
    "version": 3
   },
   "file_extension": ".py",
   "mimetype": "text/x-python",
   "name": "python",
   "nbconvert_exporter": "python",
   "pygments_lexer": "ipython3",
   "version": "3.9.13"
  }
 },
 "nbformat": 4,
 "nbformat_minor": 5
}
